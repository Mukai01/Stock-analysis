{
 "cells": [
  {
   "cell_type": "markdown",
   "id": "1eb4668b",
   "metadata": {},
   "source": [
    "# ポートフォリオのリスク・リターンの計算"
   ]
  },
  {
   "cell_type": "markdown",
   "id": "6a50aa5a",
   "metadata": {},
   "source": [
    "正規分布と相関係数がわかれば、最もリスクを小さくできるポートフォリオが分かる"
   ]
  },
  {
   "cell_type": "markdown",
   "id": "bcffb53e",
   "metadata": {},
   "source": [
    "### データ準備"
   ]
  },
  {
   "cell_type": "code",
   "execution_count": 1,
   "id": "63a6158e",
   "metadata": {},
   "outputs": [
    {
     "data": {
      "text/html": [
       "<div>\n",
       "<style scoped>\n",
       "    .dataframe tbody tr th:only-of-type {\n",
       "        vertical-align: middle;\n",
       "    }\n",
       "\n",
       "    .dataframe tbody tr th {\n",
       "        vertical-align: top;\n",
       "    }\n",
       "\n",
       "    .dataframe thead th {\n",
       "        text-align: right;\n",
       "    }\n",
       "</style>\n",
       "<table border=\"1\" class=\"dataframe\">\n",
       "  <thead>\n",
       "    <tr style=\"text-align: right;\">\n",
       "      <th></th>\n",
       "      <th>日付</th>\n",
       "      <th>始値</th>\n",
       "      <th>高値</th>\n",
       "      <th>安値</th>\n",
       "      <th>終値</th>\n",
       "    </tr>\n",
       "  </thead>\n",
       "  <tbody>\n",
       "    <tr>\n",
       "      <th>0</th>\n",
       "      <td>2011-07-29</td>\n",
       "      <td>1320.64</td>\n",
       "      <td>1356.48</td>\n",
       "      <td>1282.86</td>\n",
       "      <td>1292.28</td>\n",
       "    </tr>\n",
       "    <tr>\n",
       "      <th>1</th>\n",
       "      <td>2011-08-31</td>\n",
       "      <td>1292.59</td>\n",
       "      <td>1307.38</td>\n",
       "      <td>1101.54</td>\n",
       "      <td>1218.89</td>\n",
       "    </tr>\n",
       "    <tr>\n",
       "      <th>2</th>\n",
       "      <td>2011-09-30</td>\n",
       "      <td>1219.12</td>\n",
       "      <td>1229.29</td>\n",
       "      <td>1114.22</td>\n",
       "      <td>1131.42</td>\n",
       "    </tr>\n",
       "    <tr>\n",
       "      <th>3</th>\n",
       "      <td>2011-10-31</td>\n",
       "      <td>1131.21</td>\n",
       "      <td>1292.66</td>\n",
       "      <td>1074.77</td>\n",
       "      <td>1253.30</td>\n",
       "    </tr>\n",
       "    <tr>\n",
       "      <th>4</th>\n",
       "      <td>2011-11-30</td>\n",
       "      <td>1251.00</td>\n",
       "      <td>1277.55</td>\n",
       "      <td>1158.66</td>\n",
       "      <td>1246.96</td>\n",
       "    </tr>\n",
       "  </tbody>\n",
       "</table>\n",
       "</div>"
      ],
      "text/plain": [
       "          日付       始値       高値       安値       終値\n",
       "0 2011-07-29  1320.64  1356.48  1282.86  1292.28\n",
       "1 2011-08-31  1292.59  1307.38  1101.54  1218.89\n",
       "2 2011-09-30  1219.12  1229.29  1114.22  1131.42\n",
       "3 2011-10-31  1131.21  1292.66  1074.77  1253.30\n",
       "4 2011-11-30  1251.00  1277.55  1158.66  1246.96"
      ]
     },
     "execution_count": 1,
     "metadata": {},
     "output_type": "execute_result"
    }
   ],
   "source": [
    "#データ読み込み\n",
    "import os\n",
    "import pandas as pd\n",
    "import numpy as np\n",
    "import matplotlib.pyplot as plt\n",
    "import japanize_matplotlib\n",
    "from scipy.stats import norm\n",
    "import seaborn as sns\n",
    "from scipy.stats import t\n",
    "from scipy import stats\n",
    "\n",
    "folder='C:\\\\Users\\\\nakam\\\\python\\\\stock-analysis\\\\Data\\\\'\n",
    "os.chdir(folder)\n",
    "file='FTOPIX.xlsx'\n",
    "df_t=pd.read_excel(file)\n",
    "df_t.head()\n",
    "\n",
    "file='SandP500.xlsx'\n",
    "df_s=pd.read_excel(file)\n",
    "df_s.head()"
   ]
  },
  {
   "cell_type": "code",
   "execution_count": 2,
   "id": "0f9798bb",
   "metadata": {},
   "outputs": [
    {
     "data": {
      "text/html": [
       "<div>\n",
       "<style scoped>\n",
       "    .dataframe tbody tr th:only-of-type {\n",
       "        vertical-align: middle;\n",
       "    }\n",
       "\n",
       "    .dataframe tbody tr th {\n",
       "        vertical-align: top;\n",
       "    }\n",
       "\n",
       "    .dataframe thead th {\n",
       "        text-align: right;\n",
       "    }\n",
       "</style>\n",
       "<table border=\"1\" class=\"dataframe\">\n",
       "  <thead>\n",
       "    <tr style=\"text-align: right;\">\n",
       "      <th></th>\n",
       "      <th>日付</th>\n",
       "      <th>SandP</th>\n",
       "      <th>TOPIX</th>\n",
       "    </tr>\n",
       "  </thead>\n",
       "  <tbody>\n",
       "    <tr>\n",
       "      <th>0</th>\n",
       "      <td>2011-07-29</td>\n",
       "      <td>1292.28</td>\n",
       "      <td>834.0</td>\n",
       "    </tr>\n",
       "    <tr>\n",
       "      <th>1</th>\n",
       "      <td>2011-08-31</td>\n",
       "      <td>1218.89</td>\n",
       "      <td>764.0</td>\n",
       "    </tr>\n",
       "    <tr>\n",
       "      <th>2</th>\n",
       "      <td>2011-09-30</td>\n",
       "      <td>1131.42</td>\n",
       "      <td>760.0</td>\n",
       "    </tr>\n",
       "    <tr>\n",
       "      <th>3</th>\n",
       "      <td>2011-10-31</td>\n",
       "      <td>1253.30</td>\n",
       "      <td>763.0</td>\n",
       "    </tr>\n",
       "    <tr>\n",
       "      <th>4</th>\n",
       "      <td>2011-11-30</td>\n",
       "      <td>1246.96</td>\n",
       "      <td>728.0</td>\n",
       "    </tr>\n",
       "    <tr>\n",
       "      <th>...</th>\n",
       "      <td>...</td>\n",
       "      <td>...</td>\n",
       "      <td>...</td>\n",
       "    </tr>\n",
       "    <tr>\n",
       "      <th>115</th>\n",
       "      <td>2021-02-26</td>\n",
       "      <td>3811.15</td>\n",
       "      <td>1916.0</td>\n",
       "    </tr>\n",
       "    <tr>\n",
       "      <th>116</th>\n",
       "      <td>2021-03-31</td>\n",
       "      <td>3972.89</td>\n",
       "      <td>2031.0</td>\n",
       "    </tr>\n",
       "    <tr>\n",
       "      <th>117</th>\n",
       "      <td>2021-04-30</td>\n",
       "      <td>4181.17</td>\n",
       "      <td>1968.0</td>\n",
       "    </tr>\n",
       "    <tr>\n",
       "      <th>118</th>\n",
       "      <td>2021-05-28</td>\n",
       "      <td>4204.11</td>\n",
       "      <td>2024.0</td>\n",
       "    </tr>\n",
       "    <tr>\n",
       "      <th>119</th>\n",
       "      <td>2021-06-30</td>\n",
       "      <td>4297.50</td>\n",
       "      <td>2022.0</td>\n",
       "    </tr>\n",
       "  </tbody>\n",
       "</table>\n",
       "<p>120 rows × 3 columns</p>\n",
       "</div>"
      ],
      "text/plain": [
       "            日付    SandP   TOPIX\n",
       "0   2011-07-29  1292.28   834.0\n",
       "1   2011-08-31  1218.89   764.0\n",
       "2   2011-09-30  1131.42   760.0\n",
       "3   2011-10-31  1253.30   763.0\n",
       "4   2011-11-30  1246.96   728.0\n",
       "..         ...      ...     ...\n",
       "115 2021-02-26  3811.15  1916.0\n",
       "116 2021-03-31  3972.89  2031.0\n",
       "117 2021-04-30  4181.17  1968.0\n",
       "118 2021-05-28  4204.11  2024.0\n",
       "119 2021-06-30  4297.50  2022.0\n",
       "\n",
       "[120 rows x 3 columns]"
      ]
     },
     "execution_count": 2,
     "metadata": {},
     "output_type": "execute_result"
    }
   ],
   "source": [
    "df_s=df_s[['日付','終値']]\n",
    "df_s.columns=['日付','SandP']\n",
    "\n",
    "df_t=df_t[['日付','終値']]\n",
    "df_t.columns=['日付','TOPIX']\n",
    "\n",
    "df=pd.merge(df_s,df_t,how='left',on='日付')\n",
    "df"
   ]
  },
  {
   "cell_type": "code",
   "execution_count": 3,
   "id": "0ea7ca09",
   "metadata": {},
   "outputs": [
    {
     "data": {
      "text/html": [
       "<div>\n",
       "<style scoped>\n",
       "    .dataframe tbody tr th:only-of-type {\n",
       "        vertical-align: middle;\n",
       "    }\n",
       "\n",
       "    .dataframe tbody tr th {\n",
       "        vertical-align: top;\n",
       "    }\n",
       "\n",
       "    .dataframe thead th {\n",
       "        text-align: right;\n",
       "    }\n",
       "</style>\n",
       "<table border=\"1\" class=\"dataframe\">\n",
       "  <thead>\n",
       "    <tr style=\"text-align: right;\">\n",
       "      <th></th>\n",
       "      <th>日付</th>\n",
       "      <th>SandP</th>\n",
       "      <th>TOPIX</th>\n",
       "      <th>TOPIX(前月)</th>\n",
       "      <th>TOPIX(前月比率)</th>\n",
       "      <th>SandP(前月)</th>\n",
       "      <th>SandP(前月比率)</th>\n",
       "    </tr>\n",
       "  </thead>\n",
       "  <tbody>\n",
       "    <tr>\n",
       "      <th>0</th>\n",
       "      <td>2011-07-29</td>\n",
       "      <td>1292.28</td>\n",
       "      <td>834.0</td>\n",
       "      <td>NaN</td>\n",
       "      <td>NaN</td>\n",
       "      <td>NaN</td>\n",
       "      <td>NaN</td>\n",
       "    </tr>\n",
       "    <tr>\n",
       "      <th>1</th>\n",
       "      <td>2011-08-31</td>\n",
       "      <td>1218.89</td>\n",
       "      <td>764.0</td>\n",
       "      <td>834.0</td>\n",
       "      <td>0.916067</td>\n",
       "      <td>1292.28</td>\n",
       "      <td>0.943209</td>\n",
       "    </tr>\n",
       "    <tr>\n",
       "      <th>2</th>\n",
       "      <td>2011-09-30</td>\n",
       "      <td>1131.42</td>\n",
       "      <td>760.0</td>\n",
       "      <td>764.0</td>\n",
       "      <td>0.994764</td>\n",
       "      <td>1218.89</td>\n",
       "      <td>0.928238</td>\n",
       "    </tr>\n",
       "    <tr>\n",
       "      <th>3</th>\n",
       "      <td>2011-10-31</td>\n",
       "      <td>1253.30</td>\n",
       "      <td>763.0</td>\n",
       "      <td>760.0</td>\n",
       "      <td>1.003947</td>\n",
       "      <td>1131.42</td>\n",
       "      <td>1.107723</td>\n",
       "    </tr>\n",
       "    <tr>\n",
       "      <th>4</th>\n",
       "      <td>2011-11-30</td>\n",
       "      <td>1246.96</td>\n",
       "      <td>728.0</td>\n",
       "      <td>763.0</td>\n",
       "      <td>0.954128</td>\n",
       "      <td>1253.30</td>\n",
       "      <td>0.994941</td>\n",
       "    </tr>\n",
       "    <tr>\n",
       "      <th>...</th>\n",
       "      <td>...</td>\n",
       "      <td>...</td>\n",
       "      <td>...</td>\n",
       "      <td>...</td>\n",
       "      <td>...</td>\n",
       "      <td>...</td>\n",
       "      <td>...</td>\n",
       "    </tr>\n",
       "    <tr>\n",
       "      <th>115</th>\n",
       "      <td>2021-02-26</td>\n",
       "      <td>3811.15</td>\n",
       "      <td>1916.0</td>\n",
       "      <td>1860.0</td>\n",
       "      <td>1.030108</td>\n",
       "      <td>3714.24</td>\n",
       "      <td>1.026091</td>\n",
       "    </tr>\n",
       "    <tr>\n",
       "      <th>116</th>\n",
       "      <td>2021-03-31</td>\n",
       "      <td>3972.89</td>\n",
       "      <td>2031.0</td>\n",
       "      <td>1916.0</td>\n",
       "      <td>1.060021</td>\n",
       "      <td>3811.15</td>\n",
       "      <td>1.042439</td>\n",
       "    </tr>\n",
       "    <tr>\n",
       "      <th>117</th>\n",
       "      <td>2021-04-30</td>\n",
       "      <td>4181.17</td>\n",
       "      <td>1968.0</td>\n",
       "      <td>2031.0</td>\n",
       "      <td>0.968981</td>\n",
       "      <td>3972.89</td>\n",
       "      <td>1.052425</td>\n",
       "    </tr>\n",
       "    <tr>\n",
       "      <th>118</th>\n",
       "      <td>2021-05-28</td>\n",
       "      <td>4204.11</td>\n",
       "      <td>2024.0</td>\n",
       "      <td>1968.0</td>\n",
       "      <td>1.028455</td>\n",
       "      <td>4181.17</td>\n",
       "      <td>1.005487</td>\n",
       "    </tr>\n",
       "    <tr>\n",
       "      <th>119</th>\n",
       "      <td>2021-06-30</td>\n",
       "      <td>4297.50</td>\n",
       "      <td>2022.0</td>\n",
       "      <td>2024.0</td>\n",
       "      <td>0.999012</td>\n",
       "      <td>4204.11</td>\n",
       "      <td>1.022214</td>\n",
       "    </tr>\n",
       "  </tbody>\n",
       "</table>\n",
       "<p>120 rows × 7 columns</p>\n",
       "</div>"
      ],
      "text/plain": [
       "            日付    SandP   TOPIX  TOPIX(前月)  TOPIX(前月比率)  SandP(前月)  \\\n",
       "0   2011-07-29  1292.28   834.0        NaN          NaN        NaN   \n",
       "1   2011-08-31  1218.89   764.0      834.0     0.916067    1292.28   \n",
       "2   2011-09-30  1131.42   760.0      764.0     0.994764    1218.89   \n",
       "3   2011-10-31  1253.30   763.0      760.0     1.003947    1131.42   \n",
       "4   2011-11-30  1246.96   728.0      763.0     0.954128    1253.30   \n",
       "..         ...      ...     ...        ...          ...        ...   \n",
       "115 2021-02-26  3811.15  1916.0     1860.0     1.030108    3714.24   \n",
       "116 2021-03-31  3972.89  2031.0     1916.0     1.060021    3811.15   \n",
       "117 2021-04-30  4181.17  1968.0     2031.0     0.968981    3972.89   \n",
       "118 2021-05-28  4204.11  2024.0     1968.0     1.028455    4181.17   \n",
       "119 2021-06-30  4297.50  2022.0     2024.0     0.999012    4204.11   \n",
       "\n",
       "     SandP(前月比率)  \n",
       "0            NaN  \n",
       "1       0.943209  \n",
       "2       0.928238  \n",
       "3       1.107723  \n",
       "4       0.994941  \n",
       "..           ...  \n",
       "115     1.026091  \n",
       "116     1.042439  \n",
       "117     1.052425  \n",
       "118     1.005487  \n",
       "119     1.022214  \n",
       "\n",
       "[120 rows x 7 columns]"
      ]
     },
     "execution_count": 3,
     "metadata": {},
     "output_type": "execute_result"
    }
   ],
   "source": [
    "df[\"TOPIX(前月)\"]=df['TOPIX'].shift(1)\n",
    "df['TOPIX(前月比率)']=df['TOPIX']/df['TOPIX(前月)']\n",
    "df[\"SandP(前月)\"]=df['SandP'].shift(1)\n",
    "df['SandP(前月比率)']=df['SandP']/df['SandP(前月)']\n",
    "df"
   ]
  },
  {
   "cell_type": "code",
   "execution_count": 4,
   "id": "d26c24f6",
   "metadata": {},
   "outputs": [],
   "source": [
    "df2=df[['SandP(前月比率)','TOPIX(前月比率)']]\n",
    "df2=df2.dropna()"
   ]
  },
  {
   "cell_type": "markdown",
   "id": "e03d0287",
   "metadata": {},
   "source": [
    "### 相関係数を計算"
   ]
  },
  {
   "cell_type": "code",
   "execution_count": 5,
   "id": "d2bed0ab",
   "metadata": {
    "scrolled": true
   },
   "outputs": [
    {
     "data": {
      "text/html": [
       "<div>\n",
       "<style scoped>\n",
       "    .dataframe tbody tr th:only-of-type {\n",
       "        vertical-align: middle;\n",
       "    }\n",
       "\n",
       "    .dataframe tbody tr th {\n",
       "        vertical-align: top;\n",
       "    }\n",
       "\n",
       "    .dataframe thead th {\n",
       "        text-align: right;\n",
       "    }\n",
       "</style>\n",
       "<table border=\"1\" class=\"dataframe\">\n",
       "  <thead>\n",
       "    <tr style=\"text-align: right;\">\n",
       "      <th></th>\n",
       "      <th>SandP(前月比率)</th>\n",
       "      <th>TOPIX(前月比率)</th>\n",
       "    </tr>\n",
       "  </thead>\n",
       "  <tbody>\n",
       "    <tr>\n",
       "      <th>SandP(前月比率)</th>\n",
       "      <td>1.000000</td>\n",
       "      <td>0.562116</td>\n",
       "    </tr>\n",
       "    <tr>\n",
       "      <th>TOPIX(前月比率)</th>\n",
       "      <td>0.562116</td>\n",
       "      <td>1.000000</td>\n",
       "    </tr>\n",
       "  </tbody>\n",
       "</table>\n",
       "</div>"
      ],
      "text/plain": [
       "             SandP(前月比率)  TOPIX(前月比率)\n",
       "SandP(前月比率)     1.000000     0.562116\n",
       "TOPIX(前月比率)     0.562116     1.000000"
      ]
     },
     "execution_count": 5,
     "metadata": {},
     "output_type": "execute_result"
    }
   ],
   "source": [
    "rho=df2.corr().iloc[0,1]\n",
    "df2.corr()"
   ]
  },
  {
   "cell_type": "markdown",
   "id": "8757516a",
   "metadata": {},
   "source": [
    "### 正規分布を推定"
   ]
  },
  {
   "cell_type": "code",
   "execution_count": 6,
   "id": "545a9417",
   "metadata": {},
   "outputs": [
    {
     "name": "stdout",
     "output_type": "stream",
     "text": [
      "平均:1.014136757642298,標準偏差：0.03811250533855417\n"
     ]
    },
    {
     "data": {
      "image/png": "[encoded data removed]",
      "text/plain": [
       "<Figure size 432x288 with 1 Axes>"
      ]
     },
     "metadata": {
      "needs_background": "light"
     },
     "output_type": "display_data"
    }
   ],
   "source": [
    "#正規分布を推定\n",
    "loc_s, scale_s = norm.fit(df2['SandP(前月比率)'].dropna())\n",
    "print('平均:{},標準偏差：{}'.format(loc_s, scale_s))\n",
    "\n",
    "sample = np.random.normal(loc_s, scale_s, 100000)\n",
    "\n",
    "plt.hist(df2['SandP(前月比率)'],bins=30,density=True)\n",
    "sns.kdeplot(sample)\n",
    "plt.show()"
   ]
  },
  {
   "cell_type": "code",
   "execution_count": 7,
   "id": "d89a0759",
   "metadata": {
    "scrolled": true
   },
   "outputs": [
    {
     "name": "stdout",
     "output_type": "stream",
     "text": [
      "平均:1.0117086807017828,標準偏差：0.04624567480781826\n"
     ]
    },
    {
     "data": {
      "image/png": "[encoded data removed]",
      "text/plain": [
       "<Figure size 432x288 with 1 Axes>"
      ]
     },
     "metadata": {
      "needs_background": "light"
     },
     "output_type": "display_data"
    }
   ],
   "source": [
    "#正規分布を推定\n",
    "loc_t, scale_t = norm.fit(df2['TOPIX(前月比率)'].dropna())\n",
    "print('平均:{},標準偏差：{}'.format(loc_t, scale_t))\n",
    "\n",
    "sample = np.random.normal(loc_t, scale_t, 100000)\n",
    "\n",
    "plt.hist(df2['TOPIX(前月比率)'],bins=30,density=True)\n",
    "sns.kdeplot(sample)\n",
    "plt.show()"
   ]
  },
  {
   "cell_type": "markdown",
   "id": "0fc9cd06",
   "metadata": {},
   "source": [
    "# ポートフォリオのリスク、リターン計算関数を作成"
   ]
  },
  {
   "cell_type": "code",
   "execution_count": 8,
   "id": "d23d1b04",
   "metadata": {},
   "outputs": [],
   "source": [
    "def estimate_return(loc1,loc2,x1,x2):\n",
    "    return loc1*x1+loc2*x2\n",
    "    \n",
    "def estimate_risk(scale1,scale2,x1,x2,rho):\n",
    "    cov=rho*scale1*scale2*x1*x2\n",
    "    var=2*cov+(scale1*x1)**2+(scale2*x2)**2\n",
    "    return np.sqrt(var)"
   ]
  },
  {
   "cell_type": "code",
   "execution_count": 9,
   "id": "cc224e4f",
   "metadata": {},
   "outputs": [
    {
     "data": {
      "text/plain": [
       "1.0129227191720402"
      ]
     },
     "execution_count": 9,
     "metadata": {},
     "output_type": "execute_result"
    }
   ],
   "source": [
    "estimate_return(loc_s,loc_t,0.5,0.5)"
   ]
  },
  {
   "cell_type": "code",
   "execution_count": 10,
   "id": "952af43c",
   "metadata": {},
   "outputs": [
    {
     "data": {
      "text/plain": [
       "0.037325357852331605"
      ]
     },
     "execution_count": 10,
     "metadata": {},
     "output_type": "execute_result"
    }
   ],
   "source": [
    "estimate_risk(scale_s,scale_t,0.5,0.5,rho)"
   ]
  },
  {
   "cell_type": "markdown",
   "id": "c40b9f49",
   "metadata": {},
   "source": [
    "### 結果を格納するデータフレームを作成"
   ]
  },
  {
   "cell_type": "code",
   "execution_count": 11,
   "id": "c4148dcc",
   "metadata": {
    "scrolled": true
   },
   "outputs": [
    {
     "data": {
      "text/html": [
       "<div>\n",
       "<style scoped>\n",
       "    .dataframe tbody tr th:only-of-type {\n",
       "        vertical-align: middle;\n",
       "    }\n",
       "\n",
       "    .dataframe tbody tr th {\n",
       "        vertical-align: top;\n",
       "    }\n",
       "\n",
       "    .dataframe thead th {\n",
       "        text-align: right;\n",
       "    }\n",
       "</style>\n",
       "<table border=\"1\" class=\"dataframe\">\n",
       "  <thead>\n",
       "    <tr style=\"text-align: right;\">\n",
       "      <th></th>\n",
       "      <th>SandP</th>\n",
       "      <th>TOPIX</th>\n",
       "    </tr>\n",
       "  </thead>\n",
       "  <tbody>\n",
       "    <tr>\n",
       "      <th>0</th>\n",
       "      <td>0.00</td>\n",
       "      <td>1.00</td>\n",
       "    </tr>\n",
       "    <tr>\n",
       "      <th>1</th>\n",
       "      <td>0.01</td>\n",
       "      <td>0.99</td>\n",
       "    </tr>\n",
       "    <tr>\n",
       "      <th>2</th>\n",
       "      <td>0.02</td>\n",
       "      <td>0.98</td>\n",
       "    </tr>\n",
       "    <tr>\n",
       "      <th>3</th>\n",
       "      <td>0.03</td>\n",
       "      <td>0.97</td>\n",
       "    </tr>\n",
       "    <tr>\n",
       "      <th>4</th>\n",
       "      <td>0.04</td>\n",
       "      <td>0.96</td>\n",
       "    </tr>\n",
       "    <tr>\n",
       "      <th>...</th>\n",
       "      <td>...</td>\n",
       "      <td>...</td>\n",
       "    </tr>\n",
       "    <tr>\n",
       "      <th>96</th>\n",
       "      <td>0.96</td>\n",
       "      <td>0.04</td>\n",
       "    </tr>\n",
       "    <tr>\n",
       "      <th>97</th>\n",
       "      <td>0.97</td>\n",
       "      <td>0.03</td>\n",
       "    </tr>\n",
       "    <tr>\n",
       "      <th>98</th>\n",
       "      <td>0.98</td>\n",
       "      <td>0.02</td>\n",
       "    </tr>\n",
       "    <tr>\n",
       "      <th>99</th>\n",
       "      <td>0.99</td>\n",
       "      <td>0.01</td>\n",
       "    </tr>\n",
       "    <tr>\n",
       "      <th>100</th>\n",
       "      <td>1.00</td>\n",
       "      <td>0.00</td>\n",
       "    </tr>\n",
       "  </tbody>\n",
       "</table>\n",
       "<p>101 rows × 2 columns</p>\n",
       "</div>"
      ],
      "text/plain": [
       "     SandP  TOPIX\n",
       "0     0.00   1.00\n",
       "1     0.01   0.99\n",
       "2     0.02   0.98\n",
       "3     0.03   0.97\n",
       "4     0.04   0.96\n",
       "..     ...    ...\n",
       "96    0.96   0.04\n",
       "97    0.97   0.03\n",
       "98    0.98   0.02\n",
       "99    0.99   0.01\n",
       "100   1.00   0.00\n",
       "\n",
       "[101 rows x 2 columns]"
      ]
     },
     "execution_count": 11,
     "metadata": {},
     "output_type": "execute_result"
    }
   ],
   "source": [
    "df_result=pd.DataFrame()\n",
    "df_result[\"SandP\"]=np.linspace(0,1,101)\n",
    "df_result[\"TOPIX\"]=1-df_result[\"SandP\"]\n",
    "df_result"
   ]
  },
  {
   "cell_type": "markdown",
   "id": "e734e709",
   "metadata": {},
   "source": [
    "### 計算"
   ]
  },
  {
   "cell_type": "code",
   "execution_count": 12,
   "id": "a9651515",
   "metadata": {
    "scrolled": true
   },
   "outputs": [
    {
     "data": {
      "text/html": [
       "<div>\n",
       "<style scoped>\n",
       "    .dataframe tbody tr th:only-of-type {\n",
       "        vertical-align: middle;\n",
       "    }\n",
       "\n",
       "    .dataframe tbody tr th {\n",
       "        vertical-align: top;\n",
       "    }\n",
       "\n",
       "    .dataframe thead th {\n",
       "        text-align: right;\n",
       "    }\n",
       "</style>\n",
       "<table border=\"1\" class=\"dataframe\">\n",
       "  <thead>\n",
       "    <tr style=\"text-align: right;\">\n",
       "      <th></th>\n",
       "      <th>SandP</th>\n",
       "      <th>TOPIX</th>\n",
       "      <th>return</th>\n",
       "      <th>sigma</th>\n",
       "    </tr>\n",
       "  </thead>\n",
       "  <tbody>\n",
       "    <tr>\n",
       "      <th>0</th>\n",
       "      <td>0.00</td>\n",
       "      <td>1.00</td>\n",
       "      <td>1.011709</td>\n",
       "      <td>0.046246</td>\n",
       "    </tr>\n",
       "    <tr>\n",
       "      <th>1</th>\n",
       "      <td>0.01</td>\n",
       "      <td>0.99</td>\n",
       "      <td>1.011733</td>\n",
       "      <td>0.045999</td>\n",
       "    </tr>\n",
       "    <tr>\n",
       "      <th>2</th>\n",
       "      <td>0.02</td>\n",
       "      <td>0.98</td>\n",
       "      <td>1.011757</td>\n",
       "      <td>0.045754</td>\n",
       "    </tr>\n",
       "    <tr>\n",
       "      <th>3</th>\n",
       "      <td>0.03</td>\n",
       "      <td>0.97</td>\n",
       "      <td>1.011782</td>\n",
       "      <td>0.045511</td>\n",
       "    </tr>\n",
       "    <tr>\n",
       "      <th>4</th>\n",
       "      <td>0.04</td>\n",
       "      <td>0.96</td>\n",
       "      <td>1.011806</td>\n",
       "      <td>0.045270</td>\n",
       "    </tr>\n",
       "    <tr>\n",
       "      <th>...</th>\n",
       "      <td>...</td>\n",
       "      <td>...</td>\n",
       "      <td>...</td>\n",
       "      <td>...</td>\n",
       "    </tr>\n",
       "    <tr>\n",
       "      <th>96</th>\n",
       "      <td>0.96</td>\n",
       "      <td>0.04</td>\n",
       "      <td>1.014040</td>\n",
       "      <td>0.037659</td>\n",
       "    </tr>\n",
       "    <tr>\n",
       "      <th>97</th>\n",
       "      <td>0.97</td>\n",
       "      <td>0.03</td>\n",
       "      <td>1.014064</td>\n",
       "      <td>0.037766</td>\n",
       "    </tr>\n",
       "    <tr>\n",
       "      <th>98</th>\n",
       "      <td>0.98</td>\n",
       "      <td>0.02</td>\n",
       "      <td>1.014088</td>\n",
       "      <td>0.037878</td>\n",
       "    </tr>\n",
       "    <tr>\n",
       "      <th>99</th>\n",
       "      <td>0.99</td>\n",
       "      <td>0.01</td>\n",
       "      <td>1.014112</td>\n",
       "      <td>0.037993</td>\n",
       "    </tr>\n",
       "    <tr>\n",
       "      <th>100</th>\n",
       "      <td>1.00</td>\n",
       "      <td>0.00</td>\n",
       "      <td>1.014137</td>\n",
       "      <td>0.038113</td>\n",
       "    </tr>\n",
       "  </tbody>\n",
       "</table>\n",
       "<p>101 rows × 4 columns</p>\n",
       "</div>"
      ],
      "text/plain": [
       "     SandP  TOPIX    return     sigma\n",
       "0     0.00   1.00  1.011709  0.046246\n",
       "1     0.01   0.99  1.011733  0.045999\n",
       "2     0.02   0.98  1.011757  0.045754\n",
       "3     0.03   0.97  1.011782  0.045511\n",
       "4     0.04   0.96  1.011806  0.045270\n",
       "..     ...    ...       ...       ...\n",
       "96    0.96   0.04  1.014040  0.037659\n",
       "97    0.97   0.03  1.014064  0.037766\n",
       "98    0.98   0.02  1.014088  0.037878\n",
       "99    0.99   0.01  1.014112  0.037993\n",
       "100   1.00   0.00  1.014137  0.038113\n",
       "\n",
       "[101 rows x 4 columns]"
      ]
     },
     "execution_count": 12,
     "metadata": {},
     "output_type": "execute_result"
    }
   ],
   "source": [
    "df_result['return']=0\n",
    "df_result['sigma']=0\n",
    "for i in range(len(df_result)):\n",
    "    x1=df_result.iloc[i,0]\n",
    "    x2=df_result.iloc[i,1]\n",
    "    df_result.loc[i,\"return\"]=estimate_return(loc_s,loc_t,x1,x2)\n",
    "    df_result.loc[i,\"sigma\"]=estimate_risk(scale_s,scale_t,x1,x2,rho)\n",
    "df_result"
   ]
  },
  {
   "cell_type": "markdown",
   "id": "7cc6a77b",
   "metadata": {},
   "source": [
    "### 可視化"
   ]
  },
  {
   "cell_type": "code",
   "execution_count": 13,
   "id": "f9455809",
   "metadata": {
    "scrolled": true
   },
   "outputs": [
    {
     "data": {
      "image/png": "[encoded data removed]",
      "text/plain": [
       "<Figure size 432x288 with 1 Axes>"
      ]
     },
     "metadata": {
      "needs_background": "light"
     },
     "output_type": "display_data"
    }
   ],
   "source": [
    "import matplotlib.pyplot as plt\n",
    "plt.scatter(df_result['sigma'],df_result['return'])\n",
    "\n",
    "temp=df_result.sort_values(by='sigma').iloc[0,:]\n",
    "plt.scatter(temp['sigma'],temp['return'],c='r')\n",
    "plt.text(temp['sigma']+0.0005,temp['return'],'S＆P:{:.2f}, TOPIX:{:.2f}'.format(temp['SandP'],temp['TOPIX']))\n",
    "\n",
    "temp=df_result.iloc[0,:]\n",
    "plt.scatter(temp['sigma'],temp['return'],c='r')\n",
    "plt.text(temp['sigma']+0.0005,temp['return'],'S＆P:{:.2f}, TOPIX:{:.2f}'.format(temp['SandP'],temp['TOPIX']))\n",
    "\n",
    "temp=df_result.iloc[-1,:]\n",
    "plt.scatter(temp['sigma'],temp['return'],c='r')\n",
    "plt.text(temp['sigma']+0.0005,temp['return'],'S＆P:{:.2f}, TOPIX:{:.2f}'.format(temp['SandP'],temp['TOPIX']))\n",
    "plt.xlabel('sigma')\n",
    "plt.ylabel('return')\n",
    "plt.show()"
   ]
  },
  {
   "cell_type": "markdown",
   "id": "5f20ad4a",
   "metadata": {},
   "source": [
    "- TOPIXの方がリターンが小さく、リスクが大きいが、最もリスクを小さくしたければ、TOPIXが29%必要なことがわかる\n"
   ]
  },
  {
   "cell_type": "code",
   "execution_count": null,
   "id": "7b5f4ae8",
   "metadata": {},
   "outputs": [],
   "source": []
  }
 ],
 "metadata": {
  "kernelspec": {
   "display_name": "Python 3",
   "language": "python",
   "name": "python3"
  },
  "language_info": {
   "codemirror_mode": {
    "name": "ipython",
    "version": 3
   },
   "file_extension": ".py",
   "mimetype": "text/x-python",
   "name": "python",
   "nbconvert_exporter": "python",
   "pygments_lexer": "ipython3",
   "version": "3.8.8"
  }
 },
 "nbformat": 4,
 "nbformat_minor": 5
}
